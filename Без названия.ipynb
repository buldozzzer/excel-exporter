{
 "cells": [
  {
   "cell_type": "code",
   "execution_count": 56,
   "metadata": {},
   "outputs": [],
   "source": [
    "import pandas as pd\n",
    "import datetime as dt\n",
    "import openpyxl\n",
    "import string"
   ]
  },
  {
   "cell_type": "code",
   "execution_count": 57,
   "metadata": {},
   "outputs": [],
   "source": [
    "payload = [\n",
    "    {\n",
    "    'name': 'test_name',\n",
    "    'user': 'test_user',\n",
    "    'responsible': 'test_responsible',\n",
    "    'components': [{\n",
    "        'name': 'comp_name1_sample1',\n",
    "        'serial_n': 'comp_srial_n_sample1',\n",
    "        'type': 'comp_type_sample1',\n",
    "        'view': 'comp_view_sample1',\n",
    "        'category': 'comp_category_sample1',\n",
    "        'year': 'comp_year_sample1',\n",
    "        'cost': 'comp_cost_sample1',\n",
    "        'location': {\n",
    "            'object': 'comp_object_sample1',\n",
    "            'corpus': 'comp_corpus_sample1',\n",
    "            'unit': 'comp_unit_sample1',\n",
    "            'cabinet': 'comp_cabinet_sample1',\n",
    "        }\n",
    "    },\n",
    "    {\n",
    "        'name': 'comp_name2_sample1',\n",
    "        'serial_n': 'comp_srial_n_sample1',\n",
    "        'type': 'comp_type_sample1',\n",
    "        'view': 'comp_view_sample1',\n",
    "        'category': 'comp_category_sample1',\n",
    "        'year': 'comp_year_sample1',\n",
    "        'cost': 'comp_cost_sample1',\n",
    "        'location': {\n",
    "            'object': 'comp_object_sample1',\n",
    "            'corpus': 'comp_corpus_sample1',\n",
    "            'unit': 'comp_unit_sample1',\n",
    "            'cabinet': 'comp_cabinet_sample1',\n",
    "        }\n",
    "    }],\n",
    "    'inventory_n': 'test_inventory_n',\n",
    "    'otss_category': 'test_otss_category',\n",
    "    'condition': 'test_condition',\n",
    "    'unit_from': 'test_unit_from',\n",
    "    'in_operation': 'test_in_operation',\n",
    "    'fault_document_requisites': 'test_fault_document_requisites',\n",
    "    'date_of_receipt': 'test_date_of_receipt',\n",
    "    'number_of_receipt': 'test_number_of_receipt',\n",
    "    'requisites': 'test_requisites',\n",
    "    'transfer_date': 'test_transfer_date',\n",
    "    'otss_requisites': 'test_otss_requisites',\n",
    "    'spsi_requisites': 'test_spsi_requisites',\n",
    "    'transfer_requisites': 'test_transfer_requisites',\n",
    "    'comment': 'test_comment',\n",
    "    'last_check': 'test_last_check',\n",
    "    },\n",
    "    {\n",
    "    'name': 'name3',\n",
    "    'user': 'test_user',\n",
    "    'responsible': '',\n",
    "    'components': [],\n",
    "    'inventory_n': 'test_inventory_n',\n",
    "    'otss_category': 'test_otss_category',\n",
    "    'condition': 'test_condition',\n",
    "    'unit_from': 'test_unit_from',\n",
    "    'in_operation': 'test_in_operation',\n",
    "    'fault_document_requisites': 'test_fault_document_requisites',\n",
    "    'date_of_receipt': 'test_date_of_receipt',\n",
    "    'number_of_receipt': 'test_number_of_receipt',\n",
    "    'requisites': 'test_requisites',\n",
    "    'transfer_date': 'test_transfer_date',\n",
    "    'otss_requisites': 'test_otss_requisites',\n",
    "    'spsi_requisites': 'test_spsi_requisites',\n",
    "    'transfer_requisites': 'test_transfer_requisites',\n",
    "    'comment': 'test_comment',\n",
    "    'last_check': 'test_last_check',\n",
    "    },\n",
    "    {\n",
    "    'name': 'blablabla',\n",
    "    'user': 'test_user',\n",
    "    'responsible': 'test_responsible',\n",
    "    'components': [{\n",
    "        'name': 'comp_name_sample2',\n",
    "        'serial_n': 'comp_srial_n_sample2',\n",
    "        'type': 'comp_type_sample2',\n",
    "        'view': 'comp_view_sample2',\n",
    "        'category': 'comp_category_sample2',\n",
    "        'year': 'comp_year_sample2',\n",
    "        'cost': 'comp_cost_sample2',\n",
    "        'location': {\n",
    "            'object': 'comp_object_sample2',\n",
    "            'corpus': 'comp_corpus_sample2',\n",
    "            'unit': 'comp_unit_sample2',\n",
    "            'cabinet': 'comp_cabinet_sample2',\n",
    "        }\n",
    "    }],\n",
    "    'inventory_n': 'test_inventory_n',\n",
    "    'otss_category': 'test_otss_category',\n",
    "    'condition': 'test_condition',\n",
    "    'unit_from': 'test_unit_from',\n",
    "    'in_operation': 'test_in_operation',\n",
    "    'fault_document_requisites': 'test_fault_document_requisites',\n",
    "    'date_of_receipt': 'test_date_of_receipt',\n",
    "    'number_of_receipt': 'test_number_of_receipt',\n",
    "    'requisites': 'test_requisites',\n",
    "    'transfer_date': 'test_transfer_date',\n",
    "    'otss_requisites': 'test_otss_requisites',\n",
    "    'spsi_requisites': 'test_spsi_requisites',\n",
    "    'transfer_requisites': 'test_transfer_requisites',\n",
    "    'comment': 'test_comment',\n",
    "    'last_check': 'test_last_check',\n",
    "    },\n",
    "]"
   ]
  },
  {
   "cell_type": "code",
   "execution_count": 136,
   "metadata": {},
   "outputs": [],
   "source": [
    "nested_components = {\n",
    "    (\"Компоненты\", \"Наименование\"): '',\n",
    "    (\"Компоненты\", \"Серийный номер\"): '', (\"Компоненты\", \"Тип\"): '',\n",
    "    (\"Компоненты\", \"Вид\"): '', (\"Компоненты\", \"Категория\"): '',\n",
    "    (\"Компоненты\", \"Год выпуска\"): '', (\"Компоненты\", \"Цена\"): '',\n",
    "    (\"Компоненты\", \"Местонахождение\"): ''\n",
    "}\n",
    "titles_for_extract = ['name','serial_n','type','view','category','year','cost','location']\n",
    "hight_index = []\n",
    "low_index = []\n",
    "for key, title in zip(titles_for_extract, nested_components):\n",
    "    component_cell = {}\n",
    "    for i in range(len(payload)):\n",
    "        temp_arr = []\n",
    "        for j in range(len(payload[i]['components'])):\n",
    "            component_cell[(i+1,j+1)] = payload[i]['components'][j][key]\n",
    "    nested_components[title] = component_cell     \n",
    "            \n",
    "for sample in nested_components[(\"Компоненты\", \"Местонахождение\")]:\n",
    "    nested_components[(\"Компоненты\", \"Местонахождение\")][sample] = \\\n",
    "        'Объект: ' + nested_components[(\"Компоненты\", \"Местонахождение\")][sample]['object'] + \\\n",
    "        ',\\nкорпус: ' + nested_components[(\"Компоненты\", \"Местонахождение\")][sample]['object'] + \\\n",
    "        ',\\nкабинет: ' + nested_components[(\"Компоненты\", \"Местонахождение\")][sample]['object'] + \\\n",
    "        ',\\nподразделние: ' + nested_components[(\"Компоненты\", \"Местонахождение\")][sample]['object']        "
   ]
  },
  {
   "cell_type": "code",
   "execution_count": 137,
   "metadata": {},
   "outputs": [
    {
     "data": {
      "text/plain": [
       "{('Компоненты', 'Наименование'): {(1, 1): 'comp_name1_sample1',\n",
       "  (1, 2): 'comp_name2_sample1',\n",
       "  (3, 1): 'comp_name_sample2'},\n",
       " ('Компоненты', 'Серийный номер'): {(1, 1): 'comp_srial_n_sample1',\n",
       "  (1, 2): 'comp_srial_n_sample1',\n",
       "  (3, 1): 'comp_srial_n_sample2'},\n",
       " ('Компоненты', 'Тип'): {(1, 1): 'comp_type_sample1',\n",
       "  (1, 2): 'comp_type_sample1',\n",
       "  (3, 1): 'comp_type_sample2'},\n",
       " ('Компоненты', 'Вид'): {(1, 1): 'comp_view_sample1',\n",
       "  (1, 2): 'comp_view_sample1',\n",
       "  (3, 1): 'comp_view_sample2'},\n",
       " ('Компоненты', 'Категория'): {(1, 1): 'comp_category_sample1',\n",
       "  (1, 2): 'comp_category_sample1',\n",
       "  (3, 1): 'comp_category_sample2'},\n",
       " ('Компоненты', 'Год выпуска'): {(1, 1): 'comp_year_sample1',\n",
       "  (1, 2): 'comp_year_sample1',\n",
       "  (3, 1): 'comp_year_sample2'},\n",
       " ('Компоненты', 'Цена'): {(1, 1): 'comp_cost_sample1',\n",
       "  (1, 2): 'comp_cost_sample1',\n",
       "  (3, 1): 'comp_cost_sample2'},\n",
       " ('Компоненты',\n",
       "  'Местонахождение'): {(1,\n",
       "   1): 'Объект: comp_object_sample1,\\nкорпус: comp_object_sample1,\\nкабинет: comp_object_sample1,\\nподразделние: comp_object_sample1', (1,\n",
       "   2): 'Объект: comp_object_sample1,\\nкорпус: comp_object_sample1,\\nкабинет: comp_object_sample1,\\nподразделние: comp_object_sample1', (3,\n",
       "   1): 'Объект: comp_object_sample2,\\nкорпус: comp_object_sample2,\\nкабинет: comp_object_sample2,\\nподразделние: comp_object_sample2'}}"
      ]
     },
     "execution_count": 137,
     "metadata": {},
     "output_type": "execute_result"
    }
   ],
   "source": [
    "nested_components"
   ]
  },
  {
   "cell_type": "code",
   "execution_count": 138,
   "metadata": {},
   "outputs": [
    {
     "data": {
      "text/plain": [
       "{('', 'Наименование'): {(1, 1): 'test_name',\n",
       "  (2, 1): 'name3',\n",
       "  (3, 1): 'blablabla'}}"
      ]
     },
     "execution_count": 138,
     "metadata": {},
     "output_type": "execute_result"
    }
   ],
   "source": [
    "name_dict = {('','Наименование'): {}}\n",
    "for i in range(len(payload)):\n",
    "    temp_dict = name_dict[('','Наименование')]\n",
    "    temp_dict[(i+1,1)] = payload[i]['name']\n",
    "    name_dict[('','Наименование')] = temp_dict\n",
    "name_dict"
   ]
  },
  {
   "cell_type": "code",
   "execution_count": 139,
   "metadata": {},
   "outputs": [
    {
     "data": {
      "text/plain": [
       "{('', 'Наименование'): {(1, 1): 'test_name',\n",
       "  (2, 1): 'name3',\n",
       "  (3, 1): 'blablabla'},\n",
       " ('Компоненты', 'Наименование'): {(1, 1): 'comp_name1_sample1',\n",
       "  (1, 2): 'comp_name2_sample1',\n",
       "  (3, 1): 'comp_name_sample2'},\n",
       " ('Компоненты', 'Серийный номер'): {(1, 1): 'comp_srial_n_sample1',\n",
       "  (1, 2): 'comp_srial_n_sample1',\n",
       "  (3, 1): 'comp_srial_n_sample2'},\n",
       " ('Компоненты', 'Тип'): {(1, 1): 'comp_type_sample1',\n",
       "  (1, 2): 'comp_type_sample1',\n",
       "  (3, 1): 'comp_type_sample2'},\n",
       " ('Компоненты', 'Вид'): {(1, 1): 'comp_view_sample1',\n",
       "  (1, 2): 'comp_view_sample1',\n",
       "  (3, 1): 'comp_view_sample2'},\n",
       " ('Компоненты', 'Категория'): {(1, 1): 'comp_category_sample1',\n",
       "  (1, 2): 'comp_category_sample1',\n",
       "  (3, 1): 'comp_category_sample2'},\n",
       " ('Компоненты', 'Год выпуска'): {(1, 1): 'comp_year_sample1',\n",
       "  (1, 2): 'comp_year_sample1',\n",
       "  (3, 1): 'comp_year_sample2'},\n",
       " ('Компоненты', 'Цена'): {(1, 1): 'comp_cost_sample1',\n",
       "  (1, 2): 'comp_cost_sample1',\n",
       "  (3, 1): 'comp_cost_sample2'},\n",
       " ('Компоненты',\n",
       "  'Местонахождение'): {(1,\n",
       "   1): 'Объект: comp_object_sample1,\\nкорпус: comp_object_sample1,\\nкабинет: comp_object_sample1,\\nподразделние: comp_object_sample1', (1,\n",
       "   2): 'Объект: comp_object_sample1,\\nкорпус: comp_object_sample1,\\nкабинет: comp_object_sample1,\\nподразделние: comp_object_sample1', (3,\n",
       "   1): 'Объект: comp_object_sample2,\\nкорпус: comp_object_sample2,\\nкабинет: comp_object_sample2,\\nподразделние: comp_object_sample2'}}"
      ]
     },
     "execution_count": 139,
     "metadata": {},
     "output_type": "execute_result"
    }
   ],
   "source": [
    "merge_df = {**name_dict, **nested_components}\n",
    "merge_df"
   ]
  },
  {
   "cell_type": "code",
   "execution_count": 140,
   "metadata": {},
   "outputs": [
    {
     "data": {
      "text/plain": [
       "[(1, 1), (1, 2), (2, 1), (3, 1)]"
      ]
     },
     "execution_count": 140,
     "metadata": {},
     "output_type": "execute_result"
    }
   ],
   "source": [
    "arrays = [[1,1,2,3],[1,2,1,1]]\n",
    "tuples = list(zip(*arrays))\n",
    "tuples"
   ]
  },
  {
   "cell_type": "code",
   "execution_count": 141,
   "metadata": {},
   "outputs": [
    {
     "data": {
      "text/plain": [
       "MultiIndex([(1, 1),\n",
       "            (1, 2),\n",
       "            (2, 1),\n",
       "            (3, 1)],\n",
       "           )"
      ]
     },
     "execution_count": 141,
     "metadata": {},
     "output_type": "execute_result"
    }
   ],
   "source": [
    "index = pd.MultiIndex.from_tuples(tuples, names=[None,None])\n",
    "index"
   ]
  },
  {
   "cell_type": "code",
   "execution_count": 145,
   "metadata": {
    "scrolled": true
   },
   "outputs": [],
   "source": [
    "temp_df = pd.DataFrame(data=merge_df, index=index)\n",
    "temp_df.to_excel('test.xlsx', sheet_name='Main')"
   ]
  },
  {
   "cell_type": "code",
   "execution_count": 143,
   "metadata": {},
   "outputs": [
    {
     "data": {
      "text/html": [
       "<div>\n",
       "<style scoped>\n",
       "    .dataframe tbody tr th:only-of-type {\n",
       "        vertical-align: middle;\n",
       "    }\n",
       "\n",
       "    .dataframe tbody tr th {\n",
       "        vertical-align: top;\n",
       "    }\n",
       "\n",
       "    .dataframe thead tr th {\n",
       "        text-align: left;\n",
       "    }\n",
       "</style>\n",
       "<table border=\"1\" class=\"dataframe\">\n",
       "  <thead>\n",
       "    <tr>\n",
       "      <th></th>\n",
       "      <th></th>\n",
       "      <th></th>\n",
       "      <th colspan=\"8\" halign=\"left\">Компоненты</th>\n",
       "    </tr>\n",
       "    <tr>\n",
       "      <th></th>\n",
       "      <th></th>\n",
       "      <th>Наименование</th>\n",
       "      <th>Наименование</th>\n",
       "      <th>Серийный номер</th>\n",
       "      <th>Тип</th>\n",
       "      <th>Вид</th>\n",
       "      <th>Категория</th>\n",
       "      <th>Год выпуска</th>\n",
       "      <th>Цена</th>\n",
       "      <th>Местонахождение</th>\n",
       "    </tr>\n",
       "  </thead>\n",
       "  <tbody>\n",
       "    <tr>\n",
       "      <th rowspan=\"2\" valign=\"top\">1</th>\n",
       "      <th>1</th>\n",
       "      <td>test_name</td>\n",
       "      <td>comp_name1_sample1</td>\n",
       "      <td>comp_srial_n_sample1</td>\n",
       "      <td>comp_type_sample1</td>\n",
       "      <td>comp_view_sample1</td>\n",
       "      <td>comp_category_sample1</td>\n",
       "      <td>comp_year_sample1</td>\n",
       "      <td>comp_cost_sample1</td>\n",
       "      <td>Объект: comp_object_sample1,\\nкорпус: comp_obj...</td>\n",
       "    </tr>\n",
       "    <tr>\n",
       "      <th>2</th>\n",
       "      <td>NaN</td>\n",
       "      <td>comp_name2_sample1</td>\n",
       "      <td>comp_srial_n_sample1</td>\n",
       "      <td>comp_type_sample1</td>\n",
       "      <td>comp_view_sample1</td>\n",
       "      <td>comp_category_sample1</td>\n",
       "      <td>comp_year_sample1</td>\n",
       "      <td>comp_cost_sample1</td>\n",
       "      <td>Объект: comp_object_sample1,\\nкорпус: comp_obj...</td>\n",
       "    </tr>\n",
       "    <tr>\n",
       "      <th>2</th>\n",
       "      <th>1</th>\n",
       "      <td>name3</td>\n",
       "      <td>NaN</td>\n",
       "      <td>NaN</td>\n",
       "      <td>NaN</td>\n",
       "      <td>NaN</td>\n",
       "      <td>NaN</td>\n",
       "      <td>NaN</td>\n",
       "      <td>NaN</td>\n",
       "      <td>NaN</td>\n",
       "    </tr>\n",
       "    <tr>\n",
       "      <th>3</th>\n",
       "      <th>1</th>\n",
       "      <td>blablabla</td>\n",
       "      <td>comp_name_sample2</td>\n",
       "      <td>comp_srial_n_sample2</td>\n",
       "      <td>comp_type_sample2</td>\n",
       "      <td>comp_view_sample2</td>\n",
       "      <td>comp_category_sample2</td>\n",
       "      <td>comp_year_sample2</td>\n",
       "      <td>comp_cost_sample2</td>\n",
       "      <td>Объект: comp_object_sample2,\\nкорпус: comp_obj...</td>\n",
       "    </tr>\n",
       "  </tbody>\n",
       "</table>\n",
       "</div>"
      ],
      "text/plain": [
       "                          Компоненты                                           \\\n",
       "    Наименование        Наименование        Серийный номер                Тип   \n",
       "1 1    test_name  comp_name1_sample1  comp_srial_n_sample1  comp_type_sample1   \n",
       "  2          NaN  comp_name2_sample1  comp_srial_n_sample1  comp_type_sample1   \n",
       "2 1        name3                 NaN                   NaN                NaN   \n",
       "3 1    blablabla   comp_name_sample2  comp_srial_n_sample2  comp_type_sample2   \n",
       "\n",
       "                                                                  \\\n",
       "                   Вид              Категория        Год выпуска   \n",
       "1 1  comp_view_sample1  comp_category_sample1  comp_year_sample1   \n",
       "  2  comp_view_sample1  comp_category_sample1  comp_year_sample1   \n",
       "2 1                NaN                    NaN                NaN   \n",
       "3 1  comp_view_sample2  comp_category_sample2  comp_year_sample2   \n",
       "\n",
       "                                                                           \n",
       "                  Цена                                    Местонахождение  \n",
       "1 1  comp_cost_sample1  Объект: comp_object_sample1,\\nкорпус: comp_obj...  \n",
       "  2  comp_cost_sample1  Объект: comp_object_sample1,\\nкорпус: comp_obj...  \n",
       "2 1                NaN                                                NaN  \n",
       "3 1  comp_cost_sample2  Объект: comp_object_sample2,\\nкорпус: comp_obj...  "
      ]
     },
     "execution_count": 143,
     "metadata": {},
     "output_type": "execute_result"
    }
   ],
   "source": [
    "temp_df"
   ]
  },
  {
   "cell_type": "code",
   "execution_count": null,
   "metadata": {},
   "outputs": [],
   "source": [
    "filename = \"report_\" + dt.datetime.now().strftime(\"%d-%m-%Y_%H:%M:%S\")+\".xlsx\"\n",
    "wb = openpyxl.Workbook()\n",
    "wb.save(filename=filename)\n",
    "writer = pd.ExcelWriter(filename, mode='w')"
   ]
  },
  {
   "cell_type": "code",
   "execution_count": null,
   "metadata": {},
   "outputs": [],
   "source": [
    "item_titles = {}\n",
    "for key in payload[0].keys():\n",
    "    if \"name\" == key:\n",
    "        item_titles.append(\"Наименование\")\n",
    "    if \"responsible\" == key:\n",
    "        item_titles.append(\"Ответственный сотрудник\")\n",
    "    if \"inventory_n\" == key:\n",
    "        item_titles.append(\"Инвентарный номер\")\n",
    "    if \"otss_category\" == key:\n",
    "        item_titles.append(\"Категория ОТСС\")\n",
    "    if \"condition\" == key:\n",
    "        item_titles.append(\"Состояние\")\n",
    "    if \"unit_from\" == key:\n",
    "        item_titles.append(\"Подразделение, откуда поступила мат. ценность\")\n",
    "    if \"in_operation\" == key:\n",
    "        item_titles.append(\"Используется?\")\n",
    "    if \"fault_document_requisites\" == key:\n",
    "        item_titles.append(\"Документы о неисправности\")\n",
    "    if \"date_of_receipt\" == key:\n",
    "        item_titles.append(\"Дата_поступления на учет\")\n",
    "    if \"number_of_receipt\" == key:\n",
    "        item_titles.append(\"Номер требования о поступлении на учет\")\n",
    "    if \"requisites\" == key:\n",
    "        item_titles.append(\"Реквизиты книги учета мат. ценностей\")\n",
    "    if \"transfer_date\" == key:\n",
    "        item_titles.append(\"Дата передачи во временное пользование\")\n",
    "    if \"otss_requisites\" == key:\n",
    "        item_titles.append(\"Реквизиты документа о категории ОТСС\")\n",
    "    if \"spsi_requisites\" == key:\n",
    "        item_titles.append(\"Реквизиты документа о прохождении СПСИ\")\n",
    "    if \"transfer_requisites\" == key:\n",
    "        item_titles.append(\"Реквизиты о передаче в пользование\")\n",
    "    if \"last_check\" == key:\n",
    "        item_titles.append(\"Дата последней проверки\")\n",
    "    if \"comment\" == key:\n",
    "        item_titles.append(\"Примечания\")\n",
    "    if \"user\" == key:\n",
    "        item_titles.append(\"Сотрудник, которому передали в пользование\")\n",
    "    if \"components\" == key:\n",
    "        item_titles.append(\"Компоненты\")"
   ]
  },
  {
   "cell_type": "code",
   "execution_count": null,
   "metadata": {},
   "outputs": [],
   "source": [
    "item_titles"
   ]
  },
  {
   "cell_type": "code",
   "execution_count": null,
   "metadata": {},
   "outputs": [],
   "source": [
    "for sample in payload:\n",
    "    "
   ]
  },
  {
   "cell_type": "code",
   "execution_count": null,
   "metadata": {},
   "outputs": [],
   "source": []
  },
  {
   "cell_type": "code",
   "execution_count": null,
   "metadata": {},
   "outputs": [],
   "source": [
    "cell_num = 0\n",
    "items = []\n",
    "for record in payload:\n",
    "    sample = []\n",
    "    components_len = 0\n",
    "    cell_num = 0\n",
    "    if \"name\" in record:\n",
    "        sample.append(record.pop(\"name\"))\n",
    "        cell_num += 1\n",
    "    if \"responsible\" in record:\n",
    "        sample.append(record.pop(\"responsible\"))\n",
    "        cell_num += 1\n",
    "    if \"inventory_n\" in record:\n",
    "        sample.append(record.pop(\"inventory_n\"))\n",
    "        cell_num += 1 \n",
    "    if \"otss_category\" in record:\n",
    "        sample.append(record.pop(\"otss_category\"))\n",
    "        cell_num += 1\n",
    "    if \"condition\" in record:\n",
    "        sample.append(record.pop(\"condition\"))\n",
    "        cell_num += 1\n",
    "    if \"unit_from\" in record:\n",
    "        sample.append(record.pop(\"unit_from\"))\n",
    "        cell_num += 1\n",
    "    if \"in_operation\" in record:\n",
    "        sample.append(record.pop(\"in_operation\"))\n",
    "        cell_num += 1\n",
    "    if \"fault_document_requisites\" in record:\n",
    "        sample.append(record.pop(\"fault_document_requisites\"))\n",
    "        cell_num += 1\n",
    "    if \"date_of_receipt\" in record:\n",
    "        sample.append(record.pop(\"date_of_receipt\"))\n",
    "        cell_num += 1\n",
    "    if \"number_of_receipt\" in record:\n",
    "        sample.append(record.pop(\"number_of_receipt\"))\n",
    "        cell_num += 1\n",
    "    if \"requisites\" in record:\n",
    "        sample.append(record.pop(\"requisites\"))\n",
    "        cell_num += 1\n",
    "    if \"transfer_date\" in record:\n",
    "        sample.append(record.pop(\"transfer_date\"))\n",
    "        cell_num += 1\n",
    "    if \"otss_requisites\" in record:\n",
    "        sample.append(record.pop(\"otss_requisites\"))\n",
    "        cell_num += 1\n",
    "    if \"spsi_requisites\" in record:\n",
    "        sample.append(record.pop(\"spsi_requisites\"))\n",
    "        cell_num += 1\n",
    "    if \"transfer_requisites\" in record:\n",
    "        sample.append(record.pop(\"transfer_requisites\"))\n",
    "        cell_num += 1\n",
    "    if \"last_check\" in record:\n",
    "        sample.append(record.pop(\"last_check\"))\n",
    "        cell_num += 1\n",
    "    if \"comment\" in record:\n",
    "        sample.append(record.pop(\"comment\"))\n",
    "        cell_num += 1\n",
    "    if \"user\" in record:\n",
    "        sample.append(record.pop(\"user\"))\n",
    "        cell_num += 1\n",
    "    if \"components\" in record:\n",
    "        components_len = len(record[\"components\"])\n",
    "    items.append(sample)"
   ]
  },
  {
   "cell_type": "code",
   "execution_count": null,
   "metadata": {},
   "outputs": [],
   "source": [
    "full_df = {**items, **nested_components}"
   ]
  },
  {
   "cell_type": "code",
   "execution_count": null,
   "metadata": {},
   "outputs": [],
   "source": [
    "items_df = pd.DataFrame(data=items, columns=item_titles)\n",
    "items_df"
   ]
  },
  {
   "cell_type": "code",
   "execution_count": null,
   "metadata": {},
   "outputs": [],
   "source": [
    "items_df = pd.DataFrame(data=items, columns=item_titles)\n",
    "items_df.to_excel(writer, sheet_name='Main', startrow=1, index=False)\n",
    "components_df = pd.DataFrame(data=components, columns=component_titles)\n",
    "components_df.to_excel(writer, sheet_name='Main', startcol=cell_num, startrow=1, index=False)\n",
    "writer.save()"
   ]
  },
  {
   "cell_type": "code",
   "execution_count": null,
   "metadata": {},
   "outputs": [],
   "source": [
    "wb = openpyxl.load_workbook(filename)\n",
    "ws = wb.active\n",
    "for i in range(cell_num):\n",
    "    ws[string.ascii_uppercase[i] + '1'] = ws[string.ascii_uppercase[i] + '2'].value\n",
    "    ws[string.ascii_uppercase[i] + '1'].font = openpyxl.styles.Font(bold=True)\n",
    "    ws[string.ascii_uppercase[i] + '1'].alignment = openpyxl.styles.Alignment(horizontal='center', vertical='center')\n",
    "    ws.merge_cells(string.ascii_uppercase[i] + '1:' + string.ascii_uppercase[i] + '2')\n",
    "if cell_num+7 < 26:\n",
    "    ws[string.ascii_uppercase[cell_num] + '1'] = 'Компоненты'\n",
    "    ws[string.ascii_uppercase[cell_num] + '1'].font = openpyxl.styles.Font(bold=True)\n",
    "    ws[string.ascii_uppercase[cell_num] + '1'].alignment = openpyxl.styles.Alignment(horizontal='center')\n",
    "    ws.merge_cells(string.ascii_uppercase[cell_num] + '1:' + string.ascii_uppercase[(cell_num+7)%26] + '1')\n",
    "else:\n",
    "    ws[string.ascii_uppercase[cell_num] + '1'] = 'Компоненты'\n",
    "    ws[string.ascii_uppercase[cell_num] + '1'].font = openpyxl.styles.Font(bold=True)\n",
    "    ws[string.ascii_uppercase[cell_num] + '1'].alignment = openpyxl.styles.Alignment(horizontal='center')\n",
    "    ws.merge_cells(string.ascii_uppercase[cell_num] + '1:A' + string.ascii_uppercase[(cell_num+7)%26] + '1')\n",
    "wb.save(filename)"
   ]
  },
  {
   "cell_type": "code",
   "execution_count": 50,
   "metadata": {},
   "outputs": [
    {
     "ename": "NameError",
     "evalue": "name 'filename' is not defined",
     "output_type": "error",
     "traceback": [
      "\u001b[0;31m---------------------------------------------------------------------------\u001b[0m",
      "\u001b[0;31mNameError\u001b[0m                                 Traceback (most recent call last)",
      "\u001b[0;32m<ipython-input-50-a722658e65fe>\u001b[0m in \u001b[0;36m<module>\u001b[0;34m\u001b[0m\n\u001b[0;32m----> 1\u001b[0;31m \u001b[0mpd\u001b[0m\u001b[0;34m.\u001b[0m\u001b[0mread_excel\u001b[0m\u001b[0;34m(\u001b[0m\u001b[0mfilename\u001b[0m\u001b[0;34m,\u001b[0m \u001b[0mindex_col\u001b[0m\u001b[0;34m=\u001b[0m\u001b[0;36m1\u001b[0m\u001b[0;34m)\u001b[0m\u001b[0;34m\u001b[0m\u001b[0;34m\u001b[0m\u001b[0m\n\u001b[0m",
      "\u001b[0;31mNameError\u001b[0m: name 'filename' is not defined"
     ]
    }
   ],
   "source": [
    "pd.read_excel(filename, index_col=1)"
   ]
  },
  {
   "cell_type": "code",
   "execution_count": null,
   "metadata": {},
   "outputs": [],
   "source": []
  }
 ],
 "metadata": {
  "kernelspec": {
   "display_name": "Python 3",
   "language": "python",
   "name": "python3"
  },
  "language_info": {
   "codemirror_mode": {
    "name": "ipython",
    "version": 3
   },
   "file_extension": ".py",
   "mimetype": "text/x-python",
   "name": "python",
   "nbconvert_exporter": "python",
   "pygments_lexer": "ipython3",
   "version": "3.8.5"
  }
 },
 "nbformat": 4,
 "nbformat_minor": 4
}
